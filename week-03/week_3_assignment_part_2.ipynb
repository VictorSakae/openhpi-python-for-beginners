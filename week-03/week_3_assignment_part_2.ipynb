{
 "cells": [
  {
   "cell_type": "markdown",
   "id": "054c1aef-1c6d-45a9-9717-b29cdb57afe0",
   "metadata": {},
   "source": [
    "# Python1 Week 3: Assignment\n",
    "\n",
    "A Caesar cipher is a simple encryption technique. The encryption using a Ceasar cipher replaces a letter in the plain text with a letter that is a fixed number down in the alphabet. For example, with a shift of 5 the following substitutions would take place:\n",
    "\n",
    "- a → f\n",
    "- b → g\n",
    "- c → h\n",
    "- …\n",
    "- v → a\n",
    "- w → b\n",
    "- …\n",
    "- z → e\n",
    "\n",
    "Using this substitutions, a plain text can be encrypted:\n",
    "\n",
    "- Plaintext: programming python is fun!\n",
    "- Encrypted text: uwtlwfrrnsl udymts nx kzs!\n",
    "\n",
    "Your task for the assignment is to implement a Caesar cipher with a shift of 5. The program should ask the user for a plain text sentence and print the encrypted text.\n",
    "\n",
    "Here is an example execution of the program:\n",
    "```\n",
    "Please enter a sentence: python is fun!\n",
    "The encrypted sentence is: udymts nx kzs!\n",
    "```\n",
    "\n",
    "Note that your program should not encrypt special characters like a space or an exclamation mark. If no substitution is defined for a character, the plain text character is used in the encryption as well (e.g. the ! in the example above).\n",
    "## Hint\n",
    "\n",
    "1. There are several approaches to solve this exercise. The simplest solution would be to create a dictionary containing the necessary substitutions.\n",
    "2. To avoid handling upper and lower case letters it is best to first convert the user input to lower case. After that you only need to take into account lower case letters. A string can be converted into lower case using the .lower() method.\n",
    "\n",
    "The result of the following example\n",
    "```\n",
    "s = \"TEST\"\n",
    "s = s.lower()\n",
    "print(s)\n",
    "```\n",
    "\n",
    "is:\n",
    "```\n",
    "test\n",
    "```"
   ]
  },
  {
   "cell_type": "code",
   "execution_count": 58,
   "id": "6f46dd86-4d2e-4b15-b697-a06e54d2a52c",
   "metadata": {},
   "outputs": [
    {
     "name": "stdout",
     "output_type": "stream",
     "text": [
      "{'a': 'f', 'b': 'g', 'c': 'h', 'd': 'i', 'e': 'j', 'f': 'k', 'g': 'l', 'h': 'm', 'i': 'n', 'j': 'o', 'k': 'p', 'l': 'q', 'm': 'r', 'n': 's', 'o': 't', 'p': 'u', 'q': 'v', 'r': 'w', 's': 'x', 't': 'y', 'u': 'z', 'v': 'a', 'w': 'b', 'x': 'c', 'y': 'd', 'z': 'e'}\n"
     ]
    },
    {
     "name": "stdin",
     "output_type": "stream",
     "text": [
      "Please enter a sentence: PYTHON IS FUN!\n"
     ]
    },
    {
     "name": "stdout",
     "output_type": "stream",
     "text": [
      "The encrypted sentence is: udymts nx kzs!\n"
     ]
    }
   ],
   "source": [
    "alphabet = \"abcdefghijklmnopqrstuvwxyz\"\n",
    "cypher = {alphabet[i] : alphabet[(i + 5) % len(alphabet)] for i in range(len(alphabet))}\n",
    "sentence = input(\"Please enter a sentence:\").lower()\n",
    "encrypted_text = []\n",
    "\n",
    "for l in sentence:\n",
    "    if l in list(cypher.keys()):\n",
    "        encrypted_text.append(cypher[l])\n",
    "    else:\n",
    "        encrypted_text.append(l)\n",
    "\n",
    "print(\"The encrypted sentence is:\", ''.join(encrypted_text))"
   ]
  },
  {
   "cell_type": "code",
   "execution_count": null,
   "id": "5800aa00-8cc4-4986-86ed-7fcd6092521e",
   "metadata": {},
   "outputs": [],
   "source": []
  }
 ],
 "metadata": {
  "kernelspec": {
   "display_name": "Python [conda env:base] *",
   "language": "python",
   "name": "conda-base-py"
  },
  "language_info": {
   "codemirror_mode": {
    "name": "ipython",
    "version": 3
   },
   "file_extension": ".py",
   "mimetype": "text/x-python",
   "name": "python",
   "nbconvert_exporter": "python",
   "pygments_lexer": "ipython3",
   "version": "3.12.7"
  }
 },
 "nbformat": 4,
 "nbformat_minor": 5
}
