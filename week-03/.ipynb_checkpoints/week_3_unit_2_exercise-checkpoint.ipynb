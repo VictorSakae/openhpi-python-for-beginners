{
 "cells": [
  {
   "cell_type": "markdown",
   "id": "308a0df6-eefd-48b1-8f56-649defe4bc0d",
   "metadata": {},
   "source": [
    "# Python1 Week 3, Unit 2: Exercise\n",
    "\n",
    "One of the nice features of Python is that it supports Unicode. Therefore it is possible to use emojis just like other characters in strings. In this exercise you will use this feature to build an emoji translator.\n",
    "\n",
    "Below is a dictionary that maps English terms to Emojis (broken into multiple lines for better readability).\n",
    "```\n",
    "{\n",
    "\"happy\": \"😃\",\n",
    "\"heart\": \"😍\",\n",
    "\"rotfl\": \"🤣\",\n",
    "\"smile\": \"😊\",\n",
    "\"crying\": \"😭\",\n",
    "\"kiss\": \"😘\",\n",
    "\"clap\": \"👏\",\n",
    "\"grin\": \"😁\",\n",
    "\"fire\": \"🔥\",\n",
    "\"broken\": \"💔\",\n",
    "\"think\": \"🤔\",\n",
    "\"excited\": \"🤩\",\n",
    "\"boring\": \"🙄\",\n",
    "\"winking\": \"😉\",\n",
    "\"ok\": \"👌\",\n",
    "\"hug\": \"🤗\",\n",
    "\"cool\": \"😎\",\n",
    "\"angry\": \"😠\",\n",
    "\"python\": \"🐍\"\n",
    "}\n",
    "```\n",
    "\n",
    "Use this dictionary to build a program that:\n",
    "\n",
    "    Reads a sentence from the user.\n",
    "    Replaces all the words in the sentence with the corresponding Emoji.\n",
    "\n",
    "Below is an example execution of the program:\n",
    "```\n",
    "Please enter a sentence: I'm so excited to learn python\n",
    "I'm so 🤩 to learn 🐍\n",
    "```\n",
    "\n",
    "Hint\n",
    "\n",
    "Use the .split() method to split a sentence into its words. The result of\n",
    "```\n",
    "sentence = \"This is a test\"\n",
    "words = sentence.split()\n",
    "print(words)\n",
    "```\n",
    "\n",
    "is\n",
    "```\n",
    "[\"This\", \"is\", \"a\", \"test\"]\n",
    "```\n",
    "\n",
    "You should also be careful about spaces in the resulting sentence."
   ]
  },
  {
   "cell_type": "code",
   "execution_count": 29,
   "id": "79c523ec-2e7a-4f70-8b90-802a4a135c13",
   "metadata": {},
   "outputs": [
    {
     "name": "stdin",
     "output_type": "stream",
     "text": [
      "Please enter a sentence: I'm so excited to learn python\n"
     ]
    },
    {
     "name": "stdout",
     "output_type": "stream",
     "text": [
      "I'm so 🤩 to learn 🐍\n"
     ]
    }
   ],
   "source": [
    "emoji_dict = {\n",
    "    \"happy\": \"😃\",\n",
    "    \"heart\": \"😍\",\n",
    "    \"rotfl\": \"🤣\",\n",
    "    \"smile\": \"😊\",\n",
    "    \"crying\": \"😭\",\n",
    "    \"kiss\": \"😘\",\n",
    "    \"clap\": \"👏\",\n",
    "    \"grin\": \"😁\",\n",
    "    \"fire\": \"🔥\",\n",
    "    \"broken\": \"💔\",\n",
    "    \"think\": \"🤔\",\n",
    "    \"excited\": \"🤩\",\n",
    "    \"boring\": \"🙄\",\n",
    "    \"winking\": \"😉\",\n",
    "    \"ok\": \"👌\",\n",
    "    \"hug\": \"🤗\",\n",
    "    \"cool\": \"😎\",\n",
    "    \"angry\": \"😠\",\n",
    "    \"python\": \"🐍\",\n",
    "}\n",
    "\n",
    "sentence = input(\"Please enter a sentence:\")\n",
    "sentence = [emoji_dict[s] if s in list(emoji_dict.keys()) else s for s in sentence.split()]\n",
    "print(*sentence)"
   ]
  }
 ],
 "metadata": {
  "kernelspec": {
   "display_name": "Python [conda env:base] *",
   "language": "python",
   "name": "conda-base-py"
  },
  "language_info": {
   "codemirror_mode": {
    "name": "ipython",
    "version": 3
   },
   "file_extension": ".py",
   "mimetype": "text/x-python",
   "name": "python",
   "nbconvert_exporter": "python",
   "pygments_lexer": "ipython3",
   "version": "3.12.7"
  }
 },
 "nbformat": 4,
 "nbformat_minor": 5
}
