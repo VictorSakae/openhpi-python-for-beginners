{
 "cells": [
  {
   "cell_type": "markdown",
   "id": "057ca80f-269b-4fb3-ad92-a57a1c463b35",
   "metadata": {},
   "source": [
    "# Python1 Week 3, Unit 1: Exercise\n",
    "\n",
    "Write a program that asks the user for given name, surname and field of study for a student. Store this data in a tuple and print the tuple. Below is an example execution of the program.\n",
    "```\n",
    "Please enter the given name of the student: Harry\n",
    "Please enter the surname of the student: Potter\n",
    "Please enter the field of study of the student: Defence Against the Dark Arts\n",
    "('Harry', 'Potter', 'Defence Against the Dark Arts')\n",
    "```"
   ]
  },
  {
   "cell_type": "code",
   "execution_count": 2,
   "id": "e7e17776-5642-4926-846e-25b8f973d4b0",
   "metadata": {},
   "outputs": [
    {
     "name": "stdin",
     "output_type": "stream",
     "text": [
      "Please enter the given name of the student: Harry\n",
      "Please enter the surname of the student: Potter\n",
      "Please enter the field of study of the student: Defence\n"
     ]
    },
    {
     "name": "stdout",
     "output_type": "stream",
     "text": [
      "('Harry', 'Potter', 'Defence')\n"
     ]
    }
   ],
   "source": [
    "name = input(\"Please enter the given name of the student:\")\n",
    "surname = input(\"Please enter the surname of the student:\")\n",
    "field_study = input(\"Please enter the field of study of the student:\")\n",
    "\n",
    "data = (name, surname, field_study)\n",
    "print(data)"
   ]
  },
  {
   "cell_type": "code",
   "execution_count": null,
   "id": "1bcaacb1-2c40-4159-97ba-97a593f1f400",
   "metadata": {},
   "outputs": [],
   "source": []
  }
 ],
 "metadata": {
  "kernelspec": {
   "display_name": "Python [conda env:base] *",
   "language": "python",
   "name": "conda-base-py"
  },
  "language_info": {
   "codemirror_mode": {
    "name": "ipython",
    "version": 3
   },
   "file_extension": ".py",
   "mimetype": "text/x-python",
   "name": "python",
   "nbconvert_exporter": "python",
   "pygments_lexer": "ipython3",
   "version": "3.12.7"
  }
 },
 "nbformat": 4,
 "nbformat_minor": 5
}
