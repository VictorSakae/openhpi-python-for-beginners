{
 "cells": [
  {
   "cell_type": "markdown",
   "id": "e7ab6342-8674-4285-8612-724d02ca5f6a",
   "metadata": {},
   "source": [
    "# Python1 Week 3: Bonus\n",
    "\n",
    "The bonus exercise builds upon the assignment of this week. Here is the description of this weeks exercise again:\n",
    "\n",
    "A Caesar cipher is a simple encryption technique. The encryption using a Ceasar cipher replaces a letter in the plain text with a letter that is a fixed number down in the alphabet. For example, with a shift of 5 the following substitutions would take place:\n",
    "\n",
    "- a → f\n",
    "- b → g\n",
    "- c → h\n",
    "- …\n",
    "- v → a\n",
    "- w → b\n",
    "- …\n",
    "- z → e\n",
    "\n",
    "Using this substitutions, a plain text can be encrypted:\n",
    "\n",
    "- Plaintext: programming python is fun!\n",
    "- Encrypted text: uwtlwfrrnsl udymts nx kzs!\n",
    "\n",
    "Your task for the bonus exercise is the implementation of a Caesar cipher with a variable shift. The program should ask the user for a number of characters for the shift first. Next the program should ask the user for a plain text sentence and print the encrypted text. Here is an example execution of the program:\n",
    "```\n",
    "Please enter the number of places to shift: 5\n",
    "Please enter a sentence: python is fun!\n",
    "The encrypted sentence is: udymts nx kzs!\n",
    "```\n",
    "\n",
    "Here is another execution of the program:\n",
    "```\n",
    "Please enter the number of places to shift: 10\n",
    "Please enter a sentence: python is fun!\n",
    "The encrypted sentence is: zidryx sc pex!\n",
    "```\n",
    "\n",
    "And yet another one:\n",
    "```\n",
    "Please enter the number of places to shift: 0\n",
    "Please enter a sentence: python is fun!\n",
    "The encrypted sentence is: python is fun!\n",
    "```\n",
    "\n",
    "Your program should check that only numbers between 0 and 25 are entered for the number of places to shift!\n",
    "```\n",
    "Please enter the number of places to shift: 60\n",
    "You need to enter a number between 0 and 25!\n",
    "```\n",
    "\n",
    "## Hints\n",
    "\n",
    "1. The simple solution using a dictionary will not work for this exercise. Instead you need to build the substitution dynamically. This can be done using the find method and some calculations:\n",
    "```\n",
    "     abc = \"abcdefghijklmnopqrstuvw\"\n",
    "     char_index = abc.find(\"f\")\n",
    "     encrypted_char = abc[char_index + 5]\n",
    "```\n",
    "\n",
    "2. Note that in the example above there will be an error if char_index +5 is larger then 25. You need to use the modulo (%) operator to take care of this situation.\n",
    "3. In order to check if the user entered a number, the method isdecimal() can be used.\n",
    "4. To avoid handling upper and lower case letters it is best to first convert the user input to lower case. After that you only need to take into account lower case letters. A string can be converted into lower case using the .lower() method.\n",
    "\n",
    "The result of the following example\n",
    "```\n",
    "s = \"TEST\"\n",
    "s = s.lower()\n",
    "print(s)\n",
    "```\n",
    "is:\n",
    "```\n",
    "test\n",
    "```"
   ]
  },
  {
   "cell_type": "code",
   "execution_count": 49,
   "id": "4be5f2e0-1571-4b92-935a-b3f0b43d8041",
   "metadata": {},
   "outputs": [
    {
     "name": "stdin",
     "output_type": "stream",
     "text": [
      "Please enter the number of places to shift: -3.2\n"
     ]
    },
    {
     "name": "stdout",
     "output_type": "stream",
     "text": [
      "You need to enter a number between 0 and 25!\n"
     ]
    }
   ],
   "source": [
    "shift = input(\"Please enter the number of places to shift:\")\n",
    "\n",
    "if not shift.isdecimal():\n",
    "    print(\"You need to enter a number between 0 and 25!\")\n",
    "else:\n",
    "    shift = int(shift)\n",
    "    if shift < 0 or shift > 25:\n",
    "        print(\"You need to enter a number between 0 and 25!\")\n",
    "    else:\n",
    "        sentence = input(\"Please enter a sentence:\").lower()\n",
    "            \n",
    "        alphabet = \"abcdefghijklmnopqrstuvwxyz\"\n",
    "        cypher = {alphabet[i] : alphabet[(i + shift) % len(alphabet)] for i in range(len(alphabet))}\n",
    "        encrypted_text = []\n",
    "            \n",
    "        for l in sentence:\n",
    "            if l in list(cypher.keys()):\n",
    "                encrypted_text.append(cypher[l])\n",
    "            else:\n",
    "                encrypted_text.append(l)\n",
    "            \n",
    "        print(\"The encrypted sentence is:\", ''.join(encrypted_text))"
   ]
  },
  {
   "cell_type": "code",
   "execution_count": null,
   "id": "41092f40-5132-407f-aa17-bae6de24f6d3",
   "metadata": {},
   "outputs": [],
   "source": []
  }
 ],
 "metadata": {
  "kernelspec": {
   "display_name": "Python [conda env:base] *",
   "language": "python",
   "name": "conda-base-py"
  },
  "language_info": {
   "codemirror_mode": {
    "name": "ipython",
    "version": 3
   },
   "file_extension": ".py",
   "mimetype": "text/x-python",
   "name": "python",
   "nbconvert_exporter": "python",
   "pygments_lexer": "ipython3",
   "version": "3.12.7"
  }
 },
 "nbformat": 4,
 "nbformat_minor": 5
}
