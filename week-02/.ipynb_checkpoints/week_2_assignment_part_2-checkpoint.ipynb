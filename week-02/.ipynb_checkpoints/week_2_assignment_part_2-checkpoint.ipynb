{
 "cells": [
  {
   "cell_type": "markdown",
   "id": "a1b727b8-33bf-49c1-99a3-d2bb53b775b9",
   "metadata": {},
   "source": [
    "# Python1 Week 2: Assignment\n",
    "\n",
    "In this exercise you are going to simulate a sales and operations planning using the zero stock level strategy. Write a Python program that asks the user to enter the following data:\n",
    "\n",
    "- An initial stock level for a product\n",
    "- The number of month(s) to plan\n",
    "- The planned sales quantity for each month\n",
    "\n",
    "Based on this data, calculate the required production quantity as follows:\n",
    "\n",
    "- If the sales quantity is smaller than the stock level of the previous month, the production quantity is 0\n",
    "- If the sales quantity is larger than the stock level of the previous month, the production quantity is this difference\n",
    "\n",
    "Below is an example execution of the program:\n",
    "```\n",
    "Please enter an initial stock level: 500\n",
    "Please enter the number of month to plan: 5\n",
    "Please enter the planned sales quantity: 300\n",
    "Please enter the planned sales quantity: 250\n",
    "Please enter the planned sales quantity: 200\n",
    "Please enter the planned sales quantity: 400\n",
    "Please enter the planned sales quantity: 100\n",
    "\n",
    "The resulting production quantities are:\n",
    "Production quantity month 1 - 0\n",
    "Production quantity month 2 - 50\n",
    "Production quantity month 3 - 200\n",
    "Production quantity month 4 - 400\n",
    "Production quantity month 5 - 100\n",
    "```\n",
    "\n",
    "Why are those production quantities calculated? The initial stock level is 500. In the first month 300 pieces are sold. Therefore, nothing needs to be produced and the resulting stock is 200 (= 500 - 300). In the second month 250 pieces are sold. The stock level after the previous month is 200. Therefore 50 pieces need to be produced. The resulting stock level is 0 (= 200 + 50 - 250). In the third month 200 pieces are sold. The stock level after the previous month is 0. Therefore 200 pieces need to be produced. The resulting stock level is 0 (= 200 - 200)."
   ]
  },
  {
   "cell_type": "code",
   "execution_count": 40,
   "id": "c76e2fe1-af53-4e04-a217-f9e5860a120f",
   "metadata": {},
   "outputs": [
    {
     "name": "stdin",
     "output_type": "stream",
     "text": [
      "Please enter an initial stock level: 500\n",
      "Please enter the number of month to plan: 5\n",
      "Please enter the planned sales quantity: 300\n",
      "Please enter the planned sales quantity: 250\n",
      "Please enter the planned sales quantity: 200\n",
      "Please enter the planned sales quantity: 400\n",
      "Please enter the planned sales quantity: 100\n"
     ]
    },
    {
     "name": "stdout",
     "output_type": "stream",
     "text": [
      "The resulting production quantities are:\n",
      "Production quantity month 1 - 0\n",
      "Production quantity month 2 - 50\n",
      "Production quantity month 3 - 200\n",
      "Production quantity month 4 - 400\n",
      "Production quantity month 5 - 100\n"
     ]
    }
   ],
   "source": [
    "stock_level = int(input(\"Please enter an initial stock level:\"))\n",
    "num_month = int(input(\"Please enter the number of month to plan:\"))\n",
    "\n",
    "sales = [int(input(\"Please enter the planned sales quantity:\")) for _ in range(num_month)]\n",
    "\n",
    "print(\"The resulting production quantities are:\")\n",
    "for i, value in enumerate(sales, start=1):\n",
    "    stock_level -= value\n",
    "    print(f\"Production quantity month {i} - {max(0, -stock_level)}\")\n",
    "    stock_level = max(0, stock_level)"
   ]
  },
  {
   "cell_type": "code",
   "execution_count": null,
   "id": "7ebc821d-d013-421d-aedb-9f67094b7a2c",
   "metadata": {},
   "outputs": [],
   "source": []
  }
 ],
 "metadata": {
  "kernelspec": {
   "display_name": "Python [conda env:base] *",
   "language": "python",
   "name": "conda-base-py"
  },
  "language_info": {
   "codemirror_mode": {
    "name": "ipython",
    "version": 3
   },
   "file_extension": ".py",
   "mimetype": "text/x-python",
   "name": "python",
   "nbconvert_exporter": "python",
   "pygments_lexer": "ipython3",
   "version": "3.12.7"
  }
 },
 "nbformat": 4,
 "nbformat_minor": 5
}
