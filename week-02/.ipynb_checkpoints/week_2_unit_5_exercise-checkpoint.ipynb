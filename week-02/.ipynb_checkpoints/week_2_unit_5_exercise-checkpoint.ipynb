{
 "cells": [
  {
   "cell_type": "markdown",
   "id": "556676ac-ee11-406f-9ad0-53e2a47aa02a",
   "metadata": {},
   "source": [
    "# Python1 Week 2, Unit 5: Exercise\n",
    "\n",
    "Write a program that lets the user input a two-dimensional matrix (Hint: you could use a list of lists to store the matrix). The program should first ask the user how many rows and columns the matrix should contain. Next, the program should ask the user for the elements of the matrix. Your program should read the values from the user row by row. If, for example, the matrix has the dimension 2 by 3, the values should be read as follows:\n",
    "\n",
    "- First row, first value\n",
    "- First row, second value\n",
    "- First row, third value\n",
    "- Second row, first value\n",
    "- Second row, second value\n",
    "- Second row, third value\n",
    "\n",
    "Finally, the program should calculate and print the sums of the values in each row.\n",
    "\n",
    "Below is an example execution of the program:\n",
    "```\n",
    "Please enter the number of rows in the matrix: 2\n",
    "Please enter the number of columns in the matrix: 3\n",
    "Enter the matrix values:\n",
    "Value: 1\n",
    "Value: 2\n",
    "Value: 3\n",
    "Value: 4\n",
    "Value: 5\n",
    "Value: 6\n",
    "Sum of row: 6\n",
    "Sum of row: 15\n",
    "```"
   ]
  },
  {
   "cell_type": "code",
   "execution_count": 13,
   "id": "f11c6776-1c7d-4f77-b6e7-a2ff17da93fd",
   "metadata": {},
   "outputs": [
    {
     "name": "stdin",
     "output_type": "stream",
     "text": [
      "Please enter the number of rows in the matrix: 2\n",
      "Please enter the number of columns in the matrix: 3\n"
     ]
    },
    {
     "name": "stdout",
     "output_type": "stream",
     "text": [
      "Enter the matrix values:\n"
     ]
    },
    {
     "name": "stdin",
     "output_type": "stream",
     "text": [
      "Value: 1\n",
      "Value: 2\n",
      "Value: 3\n",
      "Value: 4\n",
      "Value: 5\n",
      "Value: 6\n"
     ]
    },
    {
     "name": "stdout",
     "output_type": "stream",
     "text": [
      "Sum of row: 6\n",
      "Sum of row: 15\n"
     ]
    }
   ],
   "source": [
    "num_rows = int(input(\"Please enter the number of rows in the matrix:\"))\n",
    "num_cols = int(input(\"Please enter the number of columns in the matrix:\"))\n",
    "\n",
    "matrix = []\n",
    "sum_row = []\n",
    "\n",
    "print(\"Enter the matrix values:\")\n",
    "for i in range(num_rows):\n",
    "    row = []\n",
    "    total_sum = 0\n",
    "    for j in range(num_cols):\n",
    "        value = int(input(\"Value:\"))\n",
    "        row.append(value)\n",
    "        total_sum += value\n",
    "    matrix.append(row)\n",
    "    sum_row.append(total_sum)\n",
    "\n",
    "for s in sum_row:\n",
    "    print(\"Sum of row:\", s)"
   ]
  },
  {
   "cell_type": "code",
   "execution_count": null,
   "id": "9da20524-e30e-4f25-a16f-d92eaf40ee71",
   "metadata": {},
   "outputs": [],
   "source": []
  }
 ],
 "metadata": {
  "kernelspec": {
   "display_name": "Python [conda env:base] *",
   "language": "python",
   "name": "conda-base-py"
  },
  "language_info": {
   "codemirror_mode": {
    "name": "ipython",
    "version": 3
   },
   "file_extension": ".py",
   "mimetype": "text/x-python",
   "name": "python",
   "nbconvert_exporter": "python",
   "pygments_lexer": "ipython3",
   "version": "3.12.7"
  }
 },
 "nbformat": 4,
 "nbformat_minor": 5
}
