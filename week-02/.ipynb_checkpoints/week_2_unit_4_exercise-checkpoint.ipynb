{
 "cells": [
  {
   "cell_type": "markdown",
   "id": "0eeb576f-235d-4e7b-ab05-5a6100a51c26",
   "metadata": {},
   "source": [
    "# Python1 Week 2, Unit 4: Exercise\n",
    "\n",
    "You are given the following list containing stock symbols, their current price as well as the absolute price change of the previous day:\n",
    "```\n",
    "stocks = [[\"SAP\", 106, -3.0], [\"AAPL\", 165, 1.25], [\"TSLA\", 860, 54.2], [\"ORCL\", 76, -0.25], [\"ZM\", 114, 6.2]]\n",
    "```\n",
    "\n",
    "As you plan to take some of the profits, write a program that creates a list of all the stock symbols with a change of more than +5 percent. The list should be named sell_list. The list should only contain the stock symbol, not the price or the absolute change. Print the resulting list."
   ]
  },
  {
   "cell_type": "code",
   "execution_count": 35,
   "id": "0021b82b-25ad-4f5e-a6bf-8f8c7d425577",
   "metadata": {},
   "outputs": [
    {
     "name": "stdout",
     "output_type": "stream",
     "text": [
      "['TSLA', 'ZM']\n"
     ]
    }
   ],
   "source": [
    "stocks = [[\"SAP\", 106, -3.0], [\"AAPL\", 165, 1.25], [\"TSLA\", 860, 54.2], [\"ORCL\", 76, -0.25], [\"ZM\", 114, 6.2]]\n",
    "sell_list = []\n",
    "\n",
    "for i in stocks:\n",
    "    if i[2] > 5:\n",
    "        sell_list.append(i[0])\n",
    "        \n",
    "print(sell_list)"
   ]
  },
  {
   "cell_type": "code",
   "execution_count": null,
   "id": "38e0bb8f-3e26-45c8-ad71-704e26fcd6be",
   "metadata": {},
   "outputs": [],
   "source": []
  }
 ],
 "metadata": {
  "kernelspec": {
   "display_name": "Python [conda env:base] *",
   "language": "python",
   "name": "conda-base-py"
  },
  "language_info": {
   "codemirror_mode": {
    "name": "ipython",
    "version": 3
   },
   "file_extension": ".py",
   "mimetype": "text/x-python",
   "name": "python",
   "nbconvert_exporter": "python",
   "pygments_lexer": "ipython3",
   "version": "3.12.7"
  }
 },
 "nbformat": 4,
 "nbformat_minor": 5
}
