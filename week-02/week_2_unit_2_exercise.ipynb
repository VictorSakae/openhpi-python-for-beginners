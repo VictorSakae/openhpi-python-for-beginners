{
 "cells": [
  {
   "cell_type": "markdown",
   "id": "6016de93-bd52-4d38-b36e-53375e055318",
   "metadata": {},
   "source": [
    "# Python1 Week 2, Unit 2: Exercise\n",
    "\n",
    "Below you find a code snippet to create a Python list containing the titles of all Star Wars movies. The list contains:\n",
    "\n",
    "- A list containing the titles of the prequel trilogy: The Phantom Menace, Attack of the Clones, Revenge of the Sith\n",
    "- A list containing the titles of the original trilogy: A New Hope, The Empire Strikes Back, Return of the Jedi,\n",
    "- A list containing the titles of the sequel trilogy: The Force Awakens, The Last Jedi, The Rise of Skywalker\n",
    "\n",
    "Code snippet:\n",
    "```\n",
    "star_wars_movies = [\n",
    "    [\"The Phantom Menace\", \"Attack of the Clones\", \"Revenge of the Sith\"],\n",
    "    [\"A New Hope\", \"The Empire Strikes Back\", \"Return of the Jedi\"],\n",
    "    [\"The Force Awakens\", \"The Last Jedi\", \"The Rise of Skywalker\"],\n",
    "]\n",
    "```\n",
    "Write a program that asks the user for a number of the trilogy (1, 2 or 3) and the number of the film in this trilogy (1, 2 or 3). Print the title of the film corresponding to the user selection."
   ]
  },
  {
   "cell_type": "code",
   "execution_count": 15,
   "id": "ce0dac2a-d865-489b-a8b0-ea9c0d84f860",
   "metadata": {},
   "outputs": [
    {
     "name": "stdin",
     "output_type": "stream",
     "text": [
      "Please enter a number 1 (prequel), 2 (original), 3 (sequel): 3\n",
      "Please enter the number of the film in this trilogy: 3\n"
     ]
    },
    {
     "name": "stdout",
     "output_type": "stream",
     "text": [
      "The Rise of Skywalker\n"
     ]
    }
   ],
   "source": [
    "star_wars_movies = [\n",
    "    [\"The Phantom Menace\", \"Attack of the Clones\", \"Revenge of the Sith\"],\n",
    "    [\"A New Hope\", \"The Empire Strikes Back\", \"Return of the Jedi\"],\n",
    "    [\"The Force Awakens\", \"The Last Jedi\", \"The Rise of Skywalker\"],\n",
    "]\n",
    "\n",
    "trilogy = int(input(\"Please enter a number 1 (prequel), 2 (original), 3 (sequel):\"))\n",
    "film = int(input(\"Please enter the number of the film in this trilogy:\"))\n",
    "\n",
    "print(star_wars_movies[trilogy-1][film-1])"
   ]
  },
  {
   "cell_type": "code",
   "execution_count": null,
   "id": "6269dda4-6ac0-4261-944f-8f53ef96775f",
   "metadata": {},
   "outputs": [],
   "source": []
  }
 ],
 "metadata": {
  "kernelspec": {
   "display_name": "Python [conda env:base] *",
   "language": "python",
   "name": "conda-base-py"
  },
  "language_info": {
   "codemirror_mode": {
    "name": "ipython",
    "version": 3
   },
   "file_extension": ".py",
   "mimetype": "text/x-python",
   "name": "python",
   "nbconvert_exporter": "python",
   "pygments_lexer": "ipython3",
   "version": "3.12.7"
  }
 },
 "nbformat": 4,
 "nbformat_minor": 5
}
