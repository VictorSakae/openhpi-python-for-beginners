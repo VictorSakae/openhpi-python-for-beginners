{
 "cells": [
  {
   "cell_type": "markdown",
   "id": "01f6bcc8-8622-4027-a45b-8fe0dc1aeb3a",
   "metadata": {},
   "source": [
    "# Python1 Week 1, Unit 5: Exercise\n",
    "\n",
    "Write a Python program that asks the user to enter three integer numbers. The program should output the largest of the three numbers.\n",
    "\n",
    "Below is an example execution of the program:\n",
    "```\n",
    "Please enter the first number: 23\n",
    "Please enter the second number: 42\n",
    "Please enter the third number: 11\n",
    "\n",
    "The largest number is 42\n",
    "```"
   ]
  },
  {
   "cell_type": "code",
   "execution_count": 20,
   "id": "3ee93e30-4086-4508-93f6-8fe2602746d4",
   "metadata": {},
   "outputs": [
    {
     "name": "stdin",
     "output_type": "stream",
     "text": [
      "Please enter the first number:  100\n",
      "Please enter the second number:  99\n",
      "Please enter the third number:  98\n"
     ]
    },
    {
     "name": "stdout",
     "output_type": "stream",
     "text": [
      "The largest number is  100\n"
     ]
    }
   ],
   "source": [
    "first_num = int(input(\"Please enter the first number:\"))\n",
    "second_num = int(input(\"Please enter the second number:\"))\n",
    "third_num = int(input(\"Please enter the third number:\"))\n",
    "\n",
    "if first_num >= second_num and first_num >= third_num:\n",
    "    max_num = first_num\n",
    "elif second_num >= first_num and second_num >= third_num:\n",
    "    max_num = second_num\n",
    "else: \n",
    "    max_num = third_num\n",
    "\n",
    "print(\"The largest number is\", max_num)"
   ]
  },
  {
   "cell_type": "code",
   "execution_count": null,
   "id": "385980a5-4d5b-4487-be9a-d6150316941b",
   "metadata": {},
   "outputs": [],
   "source": []
  }
 ],
 "metadata": {
  "kernelspec": {
   "display_name": "Python [conda env:base] *",
   "language": "python",
   "name": "conda-base-py"
  },
  "language_info": {
   "codemirror_mode": {
    "name": "ipython",
    "version": 3
   },
   "file_extension": ".py",
   "mimetype": "text/x-python",
   "name": "python",
   "nbconvert_exporter": "python",
   "pygments_lexer": "ipython3",
   "version": "3.12.7"
  }
 },
 "nbformat": 4,
 "nbformat_minor": 5
}
