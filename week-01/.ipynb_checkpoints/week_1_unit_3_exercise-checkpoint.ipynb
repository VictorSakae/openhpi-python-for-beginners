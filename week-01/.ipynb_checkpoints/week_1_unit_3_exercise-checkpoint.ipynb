{
 "cells": [
  {
   "cell_type": "markdown",
   "id": "07de3234-c4a0-4892-8e0b-aee1aa85786c",
   "metadata": {},
   "source": [
    "# Python1 Week 1, Unit 3: Exercise\n",
    "\n",
    "Write a Python program that asks the user to enter:\n",
    "\n",
    "- A name\n",
    "- A start city\n",
    "- A destination city and\n",
    "- A means of transportation\n",
    "\n",
    "The program should then print that the name wants to travel from start to destination by means of transportation.\n",
    "\n",
    "Below is an example execution of the program:\n",
    "\n",
    "```\n",
    "Please enter a name: Christian \n",
    "Please enter a start: Aachen \n",
    "Please enter a destination: Berlin \n",
    "Please enter a means of transportation: Train \n",
    "  \n",
    "Christian wants to travel from Aachen to Berlin by Train \n",
    "```"
   ]
  },
  {
   "cell_type": "code",
   "execution_count": 1,
   "id": "1d4bce95-dbf1-4c5e-8003-b6769a771c9e",
   "metadata": {},
   "outputs": [
    {
     "name": "stdin",
     "output_type": "stream",
     "text": [
      "Please enter a name:  Christian\n",
      "Please enter a start:  Aachen\n",
      "Please enter a destination:  Berlin\n",
      "Please enter a means of transportation:  Train\n"
     ]
    },
    {
     "name": "stdout",
     "output_type": "stream",
     "text": [
      "Christian wants to travel from Aachen to Berlin by Train\n"
     ]
    }
   ],
   "source": [
    "name = input(\"Please enter a name: \")\n",
    "start = input(\"Please enter a start: \")\n",
    "destination = input(\"Please enter a destination: \") \n",
    "transportation = input(\"Please enter a means of transportation: \") \n",
    "\n",
    "print(name+\" wants to travel from \" + start + \" to \" + destination + \" by \" + transportation)"
   ]
  },
  {
   "cell_type": "code",
   "execution_count": null,
   "id": "a2ff8f8d-3e09-467c-bc56-8b15c98b5ba5",
   "metadata": {},
   "outputs": [],
   "source": []
  }
 ],
 "metadata": {
  "kernelspec": {
   "display_name": "Python [conda env:base] *",
   "language": "python",
   "name": "conda-base-py"
  },
  "language_info": {
   "codemirror_mode": {
    "name": "ipython",
    "version": 3
   },
   "file_extension": ".py",
   "mimetype": "text/x-python",
   "name": "python",
   "nbconvert_exporter": "python",
   "pygments_lexer": "ipython3",
   "version": "3.12.7"
  }
 },
 "nbformat": 4,
 "nbformat_minor": 5
}
