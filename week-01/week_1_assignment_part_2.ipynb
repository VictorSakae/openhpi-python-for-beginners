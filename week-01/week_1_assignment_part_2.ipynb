{
 "cells": [
  {
   "cell_type": "markdown",
   "id": "33b5cc0b-3a33-4408-a294-5b1f925e1484",
   "metadata": {},
   "source": [
    "# Python1 Week 1: Assignment\n",
    "\n",
    "Triangles can be classified based on their angles.\n",
    "\n",
    "- A right triangle has one angle of 90°\n",
    "- A obtuse triangle has one angle of more than 90°\n",
    "- A triangle is acute if all three angles are less than 90°\n",
    "\n",
    "Write a program that asks the user for the values of three angles in degrees. You can assume that the user only enters integer values. First check if the entered values are valid. The values are only valid if they are >0 and if their sum is 180°. If the entered values are valid, classify the triangle as right, acute or obtuse.\n",
    "\n",
    "Below are two example executions of the program with invalid values:\n",
    "```\n",
    "Please enter the first angle: 60\n",
    "Please enter the second angle: 60\n",
    "Please enter the third angle: 100\n",
    "The entered values are not valid.\n",
    "\n",
    "Please enter the first angle: 200\n",
    "Please enter the second angle: -10\n",
    "Please enter the third angle: -10\n",
    "Angles smaller than 0 are not valid.\n",
    "```\n",
    "Here is another example execution of the program:\n",
    "```\n",
    "Please enter the first angle: 60\n",
    "Please enter the second angle: 30\n",
    "Please enter the third angle: 90\n",
    "The triangle is a right triangle.\n",
    "```"
   ]
  },
  {
   "cell_type": "code",
   "execution_count": 16,
   "id": "941dc1a7-16a2-4fec-9404-67967714402d",
   "metadata": {},
   "outputs": [
    {
     "name": "stdin",
     "output_type": "stream",
     "text": [
      "Please enter the first angle: 60\n",
      "Please enter the second angle: 60\n",
      "Please enter the third angle: 60\n"
     ]
    },
    {
     "name": "stdout",
     "output_type": "stream",
     "text": [
      "The triangle is a acute triangle.\n"
     ]
    }
   ],
   "source": [
    "first_angle = int(input(\"Please enter the first angle:\"))\n",
    "second_angle = int(input(\"Please enter the second angle:\"))\n",
    "third_angle = int(input(\"Please enter the third angle:\"))\n",
    "\n",
    "if first_angle < 0 or second_angle < 0 or third_angle < 0:\n",
    "    print(\"Angles smaller than 0 are not valid.\")\n",
    "elif first_angle + second_angle + third_angle != 180:\n",
    "    print(\"The entered values are not valid.\")\n",
    "else:\n",
    "    # A right triangle has one angle of 90°\n",
    "    if first_angle == 90 or second_angle == 90 or third_angle == 90:\n",
    "        print(\"The triangle is a right triangle.\")\n",
    "    # A obtuse triangle has one angle of more than 90°\n",
    "    if first_angle > 90 or second_angle > 90 or third_angle > 90:\n",
    "        print(\"The triangle is a obtuse triangle.\")\n",
    "    # A triangle is acute if all three angles are less than 90°\n",
    "    if first_angle < 90 and second_angle < 90 and third_angle < 90:\n",
    "        print(\"The triangle is a acute triangle.\")"
   ]
  },
  {
   "cell_type": "code",
   "execution_count": null,
   "id": "df1de8bf-1b8e-4dfa-9783-817d3acbfc39",
   "metadata": {},
   "outputs": [],
   "source": []
  }
 ],
 "metadata": {
  "kernelspec": {
   "display_name": "Python [conda env:base] *",
   "language": "python",
   "name": "conda-base-py"
  },
  "language_info": {
   "codemirror_mode": {
    "name": "ipython",
    "version": 3
   },
   "file_extension": ".py",
   "mimetype": "text/x-python",
   "name": "python",
   "nbconvert_exporter": "python",
   "pygments_lexer": "ipython3",
   "version": "3.12.7"
  }
 },
 "nbformat": 4,
 "nbformat_minor": 5
}
